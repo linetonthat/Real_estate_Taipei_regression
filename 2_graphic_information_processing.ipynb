{
 "cells": [
  {
   "cell_type": "markdown",
   "metadata": {},
   "source": [
    "# 3. A summary map based on Graphic Information Processing\n",
    "From the geographical maps built in __[Tableau](https://public.tableau.com/profile/line.ton.that#!/vizhome/ExploratoryMapping/Histoire1)__, my objective was to build a kind of super summary map, where I would have an overview of the different areas and their associated features. It's like geographical clustering done by hand...\n",
    "\n",
    "Reading the book \"Graphics and Graphic Information Processing\" by Jacques Bertin gave me the inspiration to build this type of maps, which is a summary map where you grasp insight thanks to the visual display, as opposed to a map that you have to read to understand."
   ]
  },
  {
   "cell_type": "markdown",
   "metadata": {},
   "source": [
    "## Summary map for each variable\n",
    "At first, I needed to build summary maps for each variable. I've searched for this fonction within Tableau, but couldn't find it. As my data were single points, I couldn't use visualisation tools made for grouping areas together __[for example](https://onlinehelp.tableau.com/current/pro/desktop/fr-fr/maps_custom_territories.htm)__. __[Maps to highlight visual clusters](https://onlinehelp.tableau.com/current/pro/desktop/fr-fr/maps_howto_pointdistribution.htm)__ or __[Heatmaps](https://onlinehelp.tableau.com/current/pro/desktop/fr-fr/maps_howto_heatmap.htm)__ didn't help in my case. \n",
    "Then, what I've done, is using the maps built in Tableau and then manually drawing the main areas on top of it for certain variables: \n",
    "* Y House price of unit area\n",
    "* X3 distance to the nearest MRT station\n",
    "* X4 Number of convenience stores in the living circle on foot.\n",
    "<b>At this stage, choosing one colour per map is a good idea</b>: Variations in value are represented by variations in tones. This helps when compiling all the maps into a summary map. On a single map showing a single feature, using different colours is not as powerful as using tones to account for variations."
   ]
  },
  {
   "cell_type": "markdown",
   "metadata": {},
   "source": [
    "## Y House price of unit area\n",
    "![title](maps/map_price.png)"
   ]
  },
  {
   "cell_type": "markdown",
   "metadata": {},
   "source": [
    "## X1 Transaction date\n",
    "![title](maps/map_transaction_date.png)"
   ]
  },
  {
   "cell_type": "markdown",
   "metadata": {},
   "source": [
    "## X2 House age\n",
    "![title](maps/map_age.png)"
   ]
  },
  {
   "cell_type": "markdown",
   "metadata": {
    "collapsed": true
   },
   "source": [
    "## X3 distance to the nearest MRT station\n",
    "![title](maps/map_distance_nearest_MRT.png)"
   ]
  },
  {
   "cell_type": "markdown",
   "metadata": {},
   "source": [
    "## X4 Number of convenience stores in the living circle on foot\n",
    "![title](maps/map_no_convenience_stores.png)"
   ]
  },
  {
   "cell_type": "markdown",
   "metadata": {},
   "source": [
    "# Compiling summary maps of individual feature\n",
    "In order to summarize the information available, the summary maps of individual features were put together as different layers using transparency.Based on this image, we can identify different regions and associated features, such as central location and outskirts, residential and mixed neighbourhoods. We draw the different regions."
   ]
  },
  {
   "cell_type": "markdown",
   "metadata": {},
   "source": [
    "![title](maps/map_compilation.png)"
   ]
  },
  {
   "cell_type": "markdown",
   "metadata": {
    "collapsed": true
   },
   "source": [
    "# A summary map of our dataset\n",
    "\n",
    "The summary map is shown below. 9 different regions were identified:\n",
    "* Most properties are located in the Eastern part of the district, close to the MRT station, where lots of convenience stores are available. Highest prices are observed in this area\n",
    " * There is a central mixed neighbourhood where most high prices are observed.\n",
    " * There is a central residential neighbourhood where prices are quite high but less than in the central mixed neighbourhood\n",
    "* There is a newer development with mixed occupation. Property prices are lower than in the central neighbourhoods.\n",
    "* There are different types of neighbourhoods for properties located farther from the nearest MRT station (more than 4 km away).\n",
    "\n",
    "Variations in prices are observed for areas with similar features that cannot be explained, such as in Outskirt 1 and Outskirt 1+. This might be linked to variables that are not available in the dataset, such as amenities, school, types of building..."
   ]
  },
  {
   "cell_type": "markdown",
   "metadata": {
    "collapsed": true
   },
   "source": [
    "![title](maps/map_summary.png)"
   ]
  },
  {
   "cell_type": "markdown",
   "metadata": {},
   "source": [
    "As recommended in the book mentioned above, when building a summary map:\n",
    "* Using variation of tones to provide information on the variation of a feature (here house price per unit area)\n",
    "* Using lines to isolate different regions (here the thickness of the line represents the distance to the nearest MRT station and dashed lines represent a specificity of the neighbourhood).\n",
    "\n",
    "To build this type of maps, we make assumptions on where it's best to draw the lines between different groups of features."
   ]
  },
  {
   "cell_type": "code",
   "execution_count": null,
   "metadata": {
    "collapsed": true
   },
   "outputs": [],
   "source": []
  }
 ],
 "metadata": {
  "anaconda-cloud": {},
  "kernelspec": {
   "display_name": "Python [default]",
   "language": "python",
   "name": "python3"
  },
  "language_info": {
   "codemirror_mode": {
    "name": "ipython",
    "version": 3
   },
   "file_extension": ".py",
   "mimetype": "text/x-python",
   "name": "python",
   "nbconvert_exporter": "python",
   "pygments_lexer": "ipython3",
   "version": "3.5.6"
  }
 },
 "nbformat": 4,
 "nbformat_minor": 2
}
